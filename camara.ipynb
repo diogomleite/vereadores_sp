{
 "cells": [
  {
   "cell_type": "code",
   "execution_count": null,
   "id": "cbf510a9-0c34-4e73-8599-6871a723607c",
   "metadata": {
    "scrolled": true
   },
   "outputs": [],
   "source": [
    "!pip install requests"
   ]
  },
  {
   "cell_type": "code",
   "execution_count": null,
   "id": "d01ec7d3-4669-496b-bc03-0e8bdb7b3ee7",
   "metadata": {},
   "outputs": [],
   "source": [
    "import pandas as pd\n",
    "import requests\n",
    "import xml.etree.ElementTree as ET\n",
    "import csv\n",
    "import re"
   ]
  },
  {
   "cell_type": "code",
   "execution_count": null,
   "id": "bc811adf-32d1-467a-a7ae-40b090627875",
   "metadata": {},
   "outputs": [],
   "source": [
    "## Dados de audiências públicas\n",
    "\n",
    "# Defina os parâmetros da solicitação\n",
    "url = \"https://splegisws.saopaulo.sp.leg.br/ws/ws2.asmx/AudienciasPublicas\"\n",
    "params = {\n",
    "    \"dataInicial\": \"2021-01-01\",  # Substitua pela data inicial desejada\n",
    "    \"dataFinal\": \"2024-07-15\"     # Substitua pela data final desejada\n",
    "}\n",
    "\n",
    "# Envie a solicitação GET\n",
    "response = requests.get(url, params=params)\n",
    "\n",
    "# Verifique se a solicitação foi bem-sucedida\n",
    "if response.status_code == 200:\n",
    "    # Parse o conteúdo XML da resposta\n",
    "    root = ET.fromstring(response.content)\n",
    "\n",
    "    # Defina o caminho para o arquivo CSV de saída\n",
    "    output_csv = 'audiencias.csv'\n",
    "\n",
    "    # Abra o arquivo CSV para escrita\n",
    "    with open(output_csv, mode='w', newline='', encoding='utf-8') as file:\n",
    "        writer = csv.writer(file)\n",
    "        \n",
    "        # Escreva o cabeçalho\n",
    "        writer.writerow([\n",
    "            'Chave', 'Numero', 'Tipo', 'Comissao', 'Data', 'Horario', \n",
    "            'Local', 'Tema', 'TipoMateria', 'Sigla', 'NumeroMateria', \n",
    "            'Ano', 'Ementa'\n",
    "        ])\n",
    "\n",
    "        # Extraia dados do XML e escreva no CSV\n",
    "        for audiencia in root.findall(\"{http://www.camara.sp.gov.br/}Audiencia\"):\n",
    "            chave = audiencia.find(\"{http://www.camara.sp.gov.br/}Chave\").text\n",
    "            numero = audiencia.find(\"{http://www.camara.sp.gov.br/}Numero\").text\n",
    "            tipo = audiencia.find(\"{http://www.camara.sp.gov.br/}Tipo\").text\n",
    "            comissao = audiencia.find(\"{http://www.camara.sp.gov.br/}Comissao\").text\n",
    "            data = audiencia.find(\"{http://www.camara.sp.gov.br/}Data\").text\n",
    "            horario = audiencia.find(\"{http://www.camara.sp.gov.br/}Horario\").text\n",
    "            local = audiencia.find(\"{http://www.camara.sp.gov.br/}Local\").text\n",
    "            tema = audiencia.find(\"{http://www.camara.sp.gov.br/}Tema\")\n",
    "\n",
    "            for materia in audiencia.findall(\"{http://www.camara.sp.gov.br/}Projetos/{http://www.camara.sp.gov.br/}Materia\"):\n",
    "                tipo_materia = materia.find(\"{http://www.camara.sp.gov.br/}Tipo\").text\n",
    "                sigla = materia.find(\"{http://www.camara.sp.gov.br/}Sigla\").text\n",
    "                numero_materia = materia.find(\"{http://www.camara.sp.gov.br/}Numero\").text\n",
    "                ano = materia.find(\"{http://www.camara.sp.gov.br/}Ano\").text\n",
    "                ementa = materia.find(\"{http://www.camara.sp.gov.br/}Ementa\").text\n",
    "                \n",
    "                # Escreva a linha no CSV\n",
    "                writer.writerow([\n",
    "                    chave, numero, tipo, comissao, data, horario, local, tema, \n",
    "                    tipo_materia, sigla, numero_materia, ano, ementa\n",
    "                ])\n",
    "else:\n",
    "    print(f\"Falha na solicitação: {response.status_code}\")\n"
   ]
  },
  {
   "cell_type": "code",
   "execution_count": null,
   "id": "f131123e-63b1-4c29-8078-35b587ff2839",
   "metadata": {},
   "outputs": [],
   "source": [
    "## Dados sobre projetos de lei\n",
    "\n",
    "# Defina a URL e os cabeçalhos da solicitação\n",
    "url = \"https://splegisws.saopaulo.sp.leg.br/ws/ws2.asmx\"\n",
    "headers = {\n",
    "    \"Content-Type\": \"text/xml; charset=utf-8\",\n",
    "    \"SOAPAction\": \"http://www.camara.sp.gov.br/CatalogoDeAssuntos\"\n",
    "}\n",
    "\n",
    "# Corpo da solicitação SOAP\n",
    "body = \"\"\"<?xml version=\"1.0\" encoding=\"utf-8\"?>\n",
    "<soap:Envelope xmlns:xsi=\"http://www.w3.org/2001/XMLSchema-instance\" xmlns:xsd=\"http://www.w3.org/2001/XMLSchema\" xmlns:soap=\"http://schemas.xmlsoap.org/soap/envelope/\">\n",
    "  <soap:Body>\n",
    "    <CatalogoDeAssuntos xmlns=\"http://www.camara.sp.gov.br/\" />\n",
    "  </soap:Body>\n",
    "</soap:Envelope>\"\"\"\n",
    "\n",
    "# Envie a solicitação SOAP\n",
    "response = requests.post(url, headers=headers, data=body)\n",
    "\n",
    "# Verifique se a solicitação foi bem-sucedida\n",
    "if response.status_code == 200:\n",
    "    # Parse o conteúdo XML da resposta\n",
    "    root = ET.fromstring(response.content)\n",
    "\n",
    "    # Defina o caminho para o arquivo CSV de saída\n",
    "    output_csv = 'catalogo_de_assuntos.csv'\n",
    "\n",
    "    # Abra o arquivo CSV para escrita\n",
    "    with open(output_csv, mode='w', newline='', encoding='utf-8') as file:\n",
    "        writer = csv.writer(file)\n",
    "        \n",
    "        # Escreva o cabeçalho\n",
    "        writer.writerow([\n",
    "            'Chave', 'Texto', 'Nota', 'Autorizado', 'ChaveUse', 'Use'\n",
    "        ])\n",
    "\n",
    "        # Extraia dados do XML e escreva no CSV\n",
    "        namespace = \"{http://www.camara.sp.gov.br/}\"\n",
    "        for assunto in root.findall(f\".//{namespace}Assunto\"):\n",
    "            chave = assunto.find(f\"{namespace}Chave\").text\n",
    "            texto = assunto.find(f\"{namespace}Texto\").text\n",
    "            nota = assunto.find(f\"{namespace}Nota\")\n",
    "            autorizado = assunto.find(f\"{namespace}Autorizado\").text\n",
    "            chave_use = assunto.find(f\"{namespace}ChaveUse\")\n",
    "            use = assunto.find(f\"{namespace}Use\")\n",
    "\n",
    "            # Escreva a linha no CSV\n",
    "            writer.writerow([chave, texto, nota, autorizado, chave_use, use])\n",
    "else:\n",
    "    print(f\"Falha na solicitação: {response.status_code}\")"
   ]
  },
  {
   "cell_type": "code",
   "execution_count": null,
   "id": "f6af989a-064f-472c-abe6-70f41ad4f8d7",
   "metadata": {},
   "outputs": [],
   "source": [
    "## Dados de sessões plenárias 2023\n",
    "\n",
    "# Defina a URL e os cabeçalhos da solicitação\n",
    "url = \"https://splegisws.saopaulo.sp.leg.br/ws/ws2.asmx\"\n",
    "headers = {\n",
    "    \"Content-Type\": \"text/xml; charset=utf-8\",\n",
    "    \"SOAPAction\": \"http://www.camara.sp.gov.br/PautasSessoesPlenarias\"\n",
    "}\n",
    "\n",
    "# Corpo da solicitação SOAP\n",
    "body = \"\"\"<?xml version=\"1.0\" encoding=\"utf-8\"?>\n",
    "<soap:Envelope xmlns:xsi=\"http://www.w3.org/2001/XMLSchema-instance\" xmlns:xsd=\"http://www.w3.org/2001/XMLSchema\" xmlns:soap=\"http://schemas.xmlsoap.org/soap/envelope/\">\n",
    "  <soap:Body>\n",
    "    <PautasSessoesPlenarias xmlns=\"http://www.camara.sp.gov.br/\">\n",
    "      <Ano>2023</Ano> <!-- Substitua pelo ano desejado -->\n",
    "    </PautasSessoesPlenarias>\n",
    "  </soap:Body>\n",
    "</soap:Envelope>\"\"\"\n",
    "\n",
    "# Envie a solicitação SOAP\n",
    "response = requests.post(url, headers=headers, data=body)\n",
    "\n",
    "# Verifique se a solicitação foi bem-sucedida\n",
    "if response.status_code == 200:\n",
    "    # Parse o conteúdo XML da resposta\n",
    "    root = ET.fromstring(response.content)\n",
    "\n",
    "    # Salvar o conteúdo XML da resposta em um arquivo\n",
    "    with open('pauta23.xml', 'wb') as file:\n",
    "        file.write(response.content)\n",
    "\n",
    "    # Defina o caminho para o arquivo CSV de saída\n",
    "    output_csv = 'pautas_sessoes_plenarias23.csv'\n",
    "\n",
    "    # Abra o arquivo CSV para escrita\n",
    "    with open(output_csv, mode='w', newline='', encoding='utf-8') as file:\n",
    "        writer = csv.writer(file)\n",
    "        \n",
    "        # Escreva o cabeçalho\n",
    "        writer.writerow([\n",
    "            'Chave', 'Sessao', 'Data', 'Oradores', 'Status'\n",
    "        ])\n",
    "\n",
    "        # Extraia dados do XML e escreva no CSV\n",
    "        namespace = \"{http://www.camara.sp.gov.br/}\"\n",
    "        for pauta in root.findall(f\".//{namespace}Pauta\"):\n",
    "            chave = pauta.find(f\"{namespace}Chave\").text\n",
    "            sessao = pauta.find(f\"{namespace}Sessao\").text\n",
    "            data = pauta.find(f\"{namespace}Data\").text\n",
    "            oradores = pauta.find(f\"{namespace}Oradores\").text\n",
    "            status = pauta.find(f\"{namespace}Status\").text\n",
    "\n",
    "            # Escreva a linha no CSV\n",
    "            writer.writerow([chave, sessao, data, oradores, status])\n",
    "else:\n",
    "    print(f\"Falha na solicitação: {response.status_code}\")"
   ]
  },
  {
   "cell_type": "code",
   "execution_count": null,
   "id": "a18a01c4-ed4c-4faf-9df3-a741a23cf96c",
   "metadata": {},
   "outputs": [],
   "source": [
    "## Dados sessões plenárias 2024\n",
    "\n",
    "# Defina a URL e os cabeçalhos da solicitação\n",
    "url = \"https://splegisws.saopaulo.sp.leg.br/ws/ws2.asmx\"\n",
    "headers = {\n",
    "    \"Content-Type\": \"text/xml; charset=utf-8\",\n",
    "    \"SOAPAction\": \"http://www.camara.sp.gov.br/PautasSessoesPlenarias\"\n",
    "}\n",
    "\n",
    "# Corpo da solicitação SOAP\n",
    "body = \"\"\"<?xml version=\"1.0\" encoding=\"utf-8\"?>\n",
    "<soap:Envelope xmlns:xsi=\"http://www.w3.org/2001/XMLSchema-instance\" xmlns:xsd=\"http://www.w3.org/2001/XMLSchema\" xmlns:soap=\"http://schemas.xmlsoap.org/soap/envelope/\">\n",
    "  <soap:Body>\n",
    "    <PautasSessoesPlenarias xmlns=\"http://www.camara.sp.gov.br/\">\n",
    "      <Ano>2024</Ano> <!-- Substitua pelo ano desejado -->\n",
    "    </PautasSessoesPlenarias>\n",
    "  </soap:Body>\n",
    "</soap:Envelope>\"\"\"\n",
    "\n",
    "# Envie a solicitação SOAP\n",
    "response = requests.post(url, headers=headers, data=body)\n",
    "\n",
    "# Verifique se a solicitação foi bem-sucedida\n",
    "if response.status_code == 200:\n",
    "    # Parse o conteúdo XML da resposta\n",
    "    root = ET.fromstring(response.content)\n",
    "\n",
    "        # Salvar o conteúdo XML da resposta em um arquivo\n",
    "    with open('pauta24.xml', 'wb') as file:\n",
    "        file.write(response.content)\n",
    "\n",
    "    # Defina o caminho para o arquivo CSV de saída\n",
    "    output_csv = 'pautas_sessoes_plenarias24.csv'\n",
    "\n",
    "    # Abra o arquivo CSV para escrita\n",
    "    with open(output_csv, mode='w', newline='', encoding='utf-8') as file:\n",
    "        writer = csv.writer(file)\n",
    "        \n",
    "        # Escreva o cabeçalho\n",
    "        writer.writerow([\n",
    "            'Chave', 'Sessao', 'Data', 'Oradores', 'Status'\n",
    "        ])\n",
    "\n",
    "        # Extraia dados do XML e escreva no CSV\n",
    "        namespace = \"{http://www.camara.sp.gov.br/}\"\n",
    "        for pauta in root.findall(f\".//{namespace}Pauta\"):\n",
    "            chave = pauta.find(f\"{namespace}Chave\").text\n",
    "            sessao = pauta.find(f\"{namespace}Sessao\").text\n",
    "            data = pauta.find(f\"{namespace}Data\").text\n",
    "            oradores = pauta.find(f\"{namespace}Oradores\").text\n",
    "            status = pauta.find(f\"{namespace}Status\").text\n",
    "\n",
    "            # Escreva a linha no CSV\n",
    "            writer.writerow([chave, sessao, data, oradores, status])\n",
    "else:\n",
    "    print(f\"Falha na solicitação: {response.status_code}\")"
   ]
  },
  {
   "cell_type": "code",
   "execution_count": null,
   "id": "a4cfad14-5592-4abf-a9e1-b10822fc805b",
   "metadata": {},
   "outputs": [],
   "source": [
    "## Dados sessões plenárias 2022\n",
    "\n",
    "# Defina a URL e os cabeçalhos da solicitação\n",
    "url = \"https://splegisws.saopaulo.sp.leg.br/ws/ws2.asmx\"\n",
    "headers = {\n",
    "    \"Content-Type\": \"text/xml; charset=utf-8\",\n",
    "    \"SOAPAction\": \"http://www.camara.sp.gov.br/PautasSessoesPlenarias\"\n",
    "}\n",
    "\n",
    "# Corpo da solicitação SOAP\n",
    "body = \"\"\"<?xml version=\"1.0\" encoding=\"utf-8\"?>\n",
    "<soap:Envelope xmlns:xsi=\"http://www.w3.org/2001/XMLSchema-instance\" xmlns:xsd=\"http://www.w3.org/2001/XMLSchema\" xmlns:soap=\"http://schemas.xmlsoap.org/soap/envelope/\">\n",
    "  <soap:Body>\n",
    "    <PautasSessoesPlenarias xmlns=\"http://www.camara.sp.gov.br/\">\n",
    "      <Ano>2022</Ano> <!-- Substitua pelo ano desejado -->\n",
    "    </PautasSessoesPlenarias>\n",
    "  </soap:Body>\n",
    "</soap:Envelope>\"\"\"\n",
    "\n",
    "# Envie a solicitação SOAP\n",
    "response = requests.post(url, headers=headers, data=body)\n",
    "\n",
    "# Verifique se a solicitação foi bem-sucedida\n",
    "if response.status_code == 200:\n",
    "    # Parse o conteúdo XML da resposta\n",
    "    root = ET.fromstring(response.content)\n",
    "\n",
    "        # Salvar o conteúdo XML da resposta em um arquivo\n",
    "    with open('pauta22.xml', 'wb') as file:\n",
    "        file.write(response.content)\n",
    "\n",
    "    # Defina o caminho para o arquivo CSV de saída\n",
    "    output_csv = 'pautas_sessoes_plenarias22.csv'\n",
    "\n",
    "    # Abra o arquivo CSV para escrita\n",
    "    with open(output_csv, mode='w', newline='', encoding='utf-8') as file:\n",
    "        writer = csv.writer(file)\n",
    "        \n",
    "        # Escreva o cabeçalho\n",
    "        writer.writerow([\n",
    "            'Chave', 'Sessao', 'Data', 'Oradores', 'Status'\n",
    "        ])\n",
    "\n",
    "        # Extraia dados do XML e escreva no CSV\n",
    "        namespace = \"{http://www.camara.sp.gov.br/}\"\n",
    "        for pauta in root.findall(f\".//{namespace}Pauta\"):\n",
    "            chave = pauta.find(f\"{namespace}Chave\").text\n",
    "            sessao = pauta.find(f\"{namespace}Sessao\").text\n",
    "            data = pauta.find(f\"{namespace}Data\").text\n",
    "            oradores = pauta.find(f\"{namespace}Oradores\").text\n",
    "            status = pauta.find(f\"{namespace}Status\").text\n",
    "\n",
    "            # Escreva a linha no CSV\n",
    "            writer.writerow([chave, sessao, data, oradores, status])\n",
    "else:\n",
    "    print(f\"Falha na solicitação: {response.status_code}\")"
   ]
  },
  {
   "cell_type": "code",
   "execution_count": null,
   "id": "3207a077-c648-44e8-bf37-3fdd324c5fd6",
   "metadata": {},
   "outputs": [],
   "source": [
    "## Dados de vereadores em exercício\n",
    "\n",
    "# Defina a URL e os cabeçalhos da solicitação\n",
    "url = \"https://splegisws.saopaulo.sp.leg.br/ws/ws2.asmx\"\n",
    "headers = {\n",
    "    \"Content-Type\": \"text/xml; charset=utf-8\",\n",
    "    \"SOAPAction\": \"http://www.camara.sp.gov.br/VereadoresCMSP\"\n",
    "}\n",
    "\n",
    "# Corpo da solicitação SOAP\n",
    "body = \"\"\"<?xml version=\"1.0\" encoding=\"utf-8\"?>\n",
    "<soap:Envelope xmlns:xsi=\"http://www.w3.org/2001/XMLSchema-instance\" xmlns:xsd=\"http://www.w3.org/2001/XMLSchema\" xmlns:soap=\"http://schemas.xmlsoap.org/soap/envelope/\">\n",
    "  <soap:Body>\n",
    "    <VereadoresCMSP xmlns=\"http://www.camara.sp.gov.br/\" />\n",
    "  </soap:Body>\n",
    "</soap:Envelope>\"\"\"\n",
    "\n",
    "# Envie a solicitação SOAP\n",
    "response = requests.post(url, headers=headers, data=body)\n",
    "\n",
    "# Verifique se a solicitação foi bem-sucedida\n",
    "if response.status_code == 200:\n",
    "        # Salvar o conteúdo XML da resposta em um arquivo\n",
    "    with open('response.xml', 'wb') as file:\n",
    "        file.write(response.content)\n",
    "    # Parse o conteúdo XML da resposta\n",
    "    root = ET.fromstring(response.content)\n",
    "\n",
    "else:\n",
    "    print(f\"Falha na solicitação: {response.status_code}\")"
   ]
  },
  {
   "cell_type": "code",
   "execution_count": null,
   "id": "c3e88c51-d1ed-4e27-a24b-c59e0e1660d8",
   "metadata": {},
   "outputs": [],
   "source": [
    "#criando os dataframes\n",
    "\n",
    "audiencias = pd.read_csv(r'audiencias.csv')\n",
    "assuntos = pd.read_csv(r'catalogo_de_assuntos.csv')\n",
    "pauta23 = pd.read_csv(r'pautas_sessoes_plenarias23.csv')\n",
    "pauta22 = pd.read_csv(r'pautas_sessoes_plenarias22.csv')\n",
    "pauta24 = pd.read_csv(r'pautas_sessoes_plenarias24.csv')\n",
    "\n",
    "audiencias = audiencias.loc[(audiencias['Ano'] >= 2021)]"
   ]
  },
  {
   "cell_type": "code",
   "execution_count": null,
   "id": "3982721d-51ca-4551-a2d2-601562e46553",
   "metadata": {},
   "outputs": [],
   "source": [
    "audiencias.head()"
   ]
  },
  {
   "cell_type": "code",
   "execution_count": null,
   "id": "9c62d112-c0e0-4030-b415-bec0820c404d",
   "metadata": {},
   "outputs": [],
   "source": [
    "audiencias['Local'].value_counts()"
   ]
  },
  {
   "cell_type": "code",
   "execution_count": null,
   "id": "74f288d3-42fd-45f2-8d2f-748f23eb1cae",
   "metadata": {},
   "outputs": [],
   "source": [
    "pauta23['ano'] = 2023\n",
    "pauta24['ano'] = 2024\n",
    "pauta22['ano'] = 2022\n",
    "\n",
    "pautas = pd.concat([pauta22, pauta24, pauta23], ignore_index=True)"
   ]
  },
  {
   "cell_type": "markdown",
   "id": "24185be0-9cef-45be-8b55-145c85187094",
   "metadata": {},
   "source": [
    "### Projetos propostos"
   ]
  },
  {
   "cell_type": "code",
   "execution_count": null,
   "id": "a7efff5d-81f6-43cf-b2b6-2a5c1d2c11ed",
   "metadata": {},
   "outputs": [],
   "source": [
    "projetos = pd.read_csv(r\"C:\\Users\\Diogo\\Downloads\\Pesquisa - Projetos (1).csv\") ##substituir (dados do portal splegisconsulta.saopaulo.sp.leg.br)"
   ]
  },
  {
   "cell_type": "code",
   "execution_count": null,
   "id": "e64fabf7-dd7c-4fad-b44a-6f6961138577",
   "metadata": {},
   "outputs": [],
   "source": [
    "projetos.head()"
   ]
  },
  {
   "cell_type": "code",
   "execution_count": null,
   "id": "8998820d-4c6d-4b18-8f79-1b111ef968c0",
   "metadata": {
    "scrolled": true
   },
   "outputs": [],
   "source": [
    "# Função para extrair os nomes dos vereadores e dos partidos\n",
    "def extrair_nomes_vereadores_e_partidos(entrada):\n",
    "    # Expressão regular para capturar nomes precedidos de \"Ver.\"\n",
    "    padrao_vereadores = r'Ver\\. ([\\w\\s]+)'\n",
    "    nomes_vereadores = re.findall(padrao_vereadores, entrada)\n",
    "    \n",
    "    # Expressão regular para capturar os partidos entre parênteses\n",
    "    padrao_partidos = r'\\((.*?)\\)'\n",
    "    partidos = re.findall(padrao_partidos, entrada)\n",
    "    \n",
    "    return nomes_vereadores, partidos\n",
    "\n",
    "projetos['vereadores_partidos'] = projetos['Promoventes'].apply(extrair_nomes_vereadores_e_partidos)\n",
    "\n",
    "projetos[['nomes_vereadores', 'partidos']] = pd.DataFrame(projetos['vereadores_partidos'].tolist(), index=projetos.index)\n",
    "\n",
    "df_explodido = projetos.explode(['nomes_vereadores', 'partidos'])\n",
    "df_explodido.drop(columns=['vereadores_partidos', 'Promoventes'], inplace=True)\n",
    "\n",
    "df_explodido.head()\n",
    "\n",
    "partidos = df_explodido.drop(columns=['Ementa', 'Projeto', 'Norma', 'Palavras-chave'])\n",
    "partidos['nome_vereador'] = partidos['nomes_vereadores']"
   ]
  },
  {
   "cell_type": "markdown",
   "id": "169c89ef",
   "metadata": {},
   "source": [
    "# Criando nuvens de palavras"
   ]
  },
  {
   "cell_type": "code",
   "execution_count": null,
   "id": "bca00dd7-331f-4a0c-aa9b-c4149679f4da",
   "metadata": {},
   "outputs": [],
   "source": [
    "!pip install wordcloud matplotlib"
   ]
  },
  {
   "cell_type": "code",
   "execution_count": null,
   "id": "ccc59364-7c55-4b91-b704-ffeb0aa6dade",
   "metadata": {},
   "outputs": [],
   "source": [
    "from wordcloud import WordCloud, STOPWORDS\n",
    "import matplotlib.pyplot as plt"
   ]
  },
  {
   "cell_type": "code",
   "execution_count": null,
   "id": "c4aedc6b-1b6e-4abc-9c29-7f86da5b2e00",
   "metadata": {},
   "outputs": [],
   "source": [
    "textos = ' '.join(df_explodido['Palavras-chave'].astype(str))\n",
    "\n",
    "stopwords = set(STOPWORDS)\n",
    "stopwords.update([\"de\", \"municipal\", 'paulo', 'sao', 'lei', 'parlamentar', 'frente', 'secretaria'])\n",
    "\n",
    "wordcloud = WordCloud(width=800, height=400, background_color='white', stopwords=stopwords).generate(textos)\n",
    "\n",
    "plt.figure(figsize=(10, 5))\n",
    "plt.imshow(wordcloud, interpolation='bilinear')\n",
    "plt.axis('off')\n",
    "plt.show()"
   ]
  },
  {
   "cell_type": "code",
   "execution_count": null,
   "id": "d0f8369d-9726-4b1c-ba1c-8c458ffadb54",
   "metadata": {},
   "outputs": [],
   "source": [
    "import pandas as pd\n",
    "import re\n",
    "\n",
    "df = pd.read_csv(r\"C:\\Users\\Diogo\\Downloads\\Pesquisa - Projetos (1).csv\")\n",
    "\n",
    "# Função para extrair os nomes dos vereadores e remover prefixos como \"dra.\"\n",
    "def extrair_nomes_vereadores(entrada):\n",
    "    # Expressão regular para capturar nomes precedidos de \"Ver.\"\n",
    "    padrao = r'Ver\\. ([\\w\\s]+)'\n",
    "    nomes = re.findall(padrao, entrada)\n",
    "    # Remover prefixo \"dra.\" dos nomes\n",
    "    nomes = [re.sub(r'\\bdra\\.\\s*', '', nome) for nome in nomes]\n",
    "    return nomes\n",
    "\n",
    "df['Promoventes'] = df['Promoventes'].apply(extrair_nomes_vereadores)\n",
    "\n",
    "df_explodido = df.explode('Promoventes')\n",
    "\n",
    "contagem_projetos = df_explodido['Promoventes'].value_counts()\n",
    "print(contagem_projetos)\n",
    "\n",
    "contagem_projetos_df = contagem_projetos.reset_index()\n",
    "contagem_projetos_df.columns = ['nome_vereador', 'numero_projetos']\n",
    "print(contagem_projetos_df)"
   ]
  },
  {
   "cell_type": "code",
   "execution_count": null,
   "id": "6c8177e2-5cee-45b9-bfaa-7aa8cd149370",
   "metadata": {},
   "outputs": [],
   "source": [
    "contagem_projetos_df.to_excel('projetos.xlsx')"
   ]
  },
  {
   "cell_type": "code",
   "execution_count": null,
   "id": "9c12467b-764e-4cb2-bf27-2b82d35e8633",
   "metadata": {},
   "outputs": [],
   "source": [
    "df_explodido=df_explodido.dropna(subset=['partidos'])\n",
    "df_explodido.head()"
   ]
  },
  {
   "cell_type": "code",
   "execution_count": null,
   "id": "0e373e8b-9b1b-4bfb-96ed-d33b95158b94",
   "metadata": {},
   "outputs": [],
   "source": [
    "stopwords = set(STOPWORDS)\n",
    "stopwords.update([\"de\", \"municipal\", 'paulo', 'sao', 'lei', 'parlamentar', 'frente', 'da', 'e', 'secretaria'])\n",
    "\n",
    "# Função para gerar e plotar a nuvem de palavras\n",
    "def gerar_nuvem_palavras(texto, titulo, ax):\n",
    "    wordcloud = WordCloud(width=800, height=400, background_color='white', stopwords=stopwords).generate(texto)\n",
    "    ax.imshow(wordcloud, interpolation='bilinear')\n",
    "    ax.set_title(titulo, fontsize=14)\n",
    "    ax.axis('off')\n",
    "\n",
    "# Agrupar os textos dos projetos de lei por partido\n",
    "partidos = df_explodido['partidos'].unique()\n",
    "\n",
    "# Configurar o tamanho da figura\n",
    "fig, axes = plt.subplots(len(partidos), 1, figsize=(10, len(partidos) * 5))\n",
    "\n",
    "# Gerar e plotar a nuvem de palavras para cada partido\n",
    "for i, partido in enumerate(partidos):\n",
    "    textos_partido = ' '.join(df_explodido[df_explodido['partidos'] == partido]['Palavras-chave'].astype(str))\n",
    "    gerar_nuvem_palavras(textos_partido, partido, axes[i])\n",
    "\n",
    "# Ajustar o layout\n",
    "plt.tight_layout()\n",
    "plt.show()"
   ]
  },
  {
   "cell_type": "markdown",
   "id": "44dcaea9-987d-4f05-bf70-78810b31f914",
   "metadata": {},
   "source": [
    "### Só com leis aprovadas"
   ]
  },
  {
   "cell_type": "code",
   "execution_count": null,
   "id": "d0443c36-9ae8-4486-ab8c-b82bea8fb08c",
   "metadata": {},
   "outputs": [],
   "source": [
    "projetos = pd.read_csv(r\"C:\\Users\\Diogo\\Downloads\\Pesquisa - Projetos (2).csv\") ##substituir (consulta no portal splegisconsulta.saopaulo.sp.leg.br)"
   ]
  },
  {
   "cell_type": "code",
   "execution_count": null,
   "id": "df11acf2-49d7-4202-9bcd-4cd0eec905d3",
   "metadata": {},
   "outputs": [],
   "source": [
    "# Carregue seu dataset (substitua 'seu_arquivo.csv' pelo nome do seu arquivo)\n",
    "df = pd.read_csv(r\"C:\\Users\\Diogo\\Downloads\\Pesquisa - Projetos (2).csv\")\n",
    "\n",
    "# Função para extrair os nomes dos vereadores\n",
    "def extrair_nomes_vereadores(entrada):\n",
    "    # Expressão regular para capturar nomes precedidos de \"Ver.\"\n",
    "    padrao = r'Ver\\. ([\\w\\s]+)'\n",
    "    return re.findall(padrao, entrada)\n",
    "\n",
    "df['Promoventes'] = df['Promoventes'].apply(extrair_nomes_vereadores)\n",
    "\n",
    "df_explodido = df.explode('Promoventes')\n",
    "\n",
    "contagem_projetos = df_explodido['Promoventes'].value_counts()\n",
    "print(contagem_projetos)\n",
    "\n",
    "contagem_projetos_aprov = contagem_projetos.reset_index()\n",
    "contagem_projetos_aprov.columns = ['nome_vereador', 'numero_projetos']\n",
    "print(contagem_projetos_aprov)\n",
    "\n",
    "contagem_projetos_aprov.to_excel('projetos_aprovados.xlsx')"
   ]
  },
  {
   "cell_type": "code",
   "execution_count": null,
   "id": "d22a0817-d83e-4f10-b854-5da8c9242f57",
   "metadata": {},
   "outputs": [],
   "source": [
    "partidos.head()"
   ]
  },
  {
   "cell_type": "code",
   "execution_count": null,
   "id": "425f2044-2dc2-40df-8517-409f1120cebe",
   "metadata": {},
   "outputs": [],
   "source": [
    "projetos_final = pd.merge(contagem_projetos_aprov, contagem_projetos_df, on=['nome_vereador'])\n",
    "projetos_final = pd.merge(partidos, projetos_final, on=['nome_vereador'])"
   ]
  },
  {
   "cell_type": "code",
   "execution_count": null,
   "id": "351c6156-0b4d-4b21-9f88-fcbc64900bbd",
   "metadata": {},
   "outputs": [],
   "source": [
    "projetos_final.head()\n",
    "projetos_final.to_excel('projetos.xlsx')"
   ]
  },
  {
   "cell_type": "code",
   "execution_count": null,
   "id": "cf29f664-a231-4589-a7e9-420eead76738",
   "metadata": {},
   "outputs": [],
   "source": [
    "# Função para extrair os nomes dos vereadores e dos partidos\n",
    "def extrair_nomes_vereadores_e_partidos(entrada):\n",
    "    # Expressão regular para capturar nomes precedidos de \"Ver.\"\n",
    "    padrao_vereadores = r'Ver\\. ([\\w\\s]+)'\n",
    "    nomes_vereadores = re.findall(padrao_vereadores, entrada)\n",
    "    \n",
    "    # Expressão regular para capturar os partidos entre parênteses\n",
    "    padrao_partidos = r'\\((.*?)\\)'\n",
    "    partidos = re.findall(padrao_partidos, entrada)\n",
    "    \n",
    "    return nomes_vereadores, partidos\n",
    "\n",
    "# Aplique a função à coluna de nomes de vereadores\n",
    "projetos['vereadores_partidos'] = projetos['Promoventes'].apply(extrair_nomes_vereadores_e_partidos)\n",
    "\n",
    "# Separe os nomes dos vereadores e os partidos em colunas diferentes\n",
    "projetos[['nomes_vereadores', 'partidos']] = pd.DataFrame(projetos['vereadores_partidos'].tolist(), index=projetos.index)\n",
    "\n",
    "# Exploda a lista de nomes de vereadores em linhas separadas\n",
    "df_explodido = projetos.explode(['nomes_vereadores', 'partidos'])\n",
    "df_explodido.drop(columns=['vereadores_partidos', 'Promoventes'], inplace=True)\n",
    "\n",
    "# Exibir o DataFrame com os vereadores e partidos\n",
    "df_explodido.head()\n",
    "\n",
    "partidos = df_explodido.drop(columns=['Ementa', 'Projeto', 'Norma', 'Palavras-chave'])\n",
    "partidos['nome_vereador'] = partidos['nomes_vereadores']"
   ]
  },
  {
   "cell_type": "code",
   "execution_count": null,
   "id": "efdec66c-5fbb-429c-b679-d7046667ff6d",
   "metadata": {},
   "outputs": [],
   "source": [
    "# Supondo que você tem uma coluna com textos dos projetos de lei, concatene todos os textos em uma única string\n",
    "textos = ' '.join(df_explodido['Palavras-chave'].astype(str))\n",
    "\n",
    "# Atualize as stopwords para incluir \"de\" e \"municipal\"\n",
    "stopwords = set(STOPWORDS)\n",
    "stopwords.update([\"de\", \"municipal\", 'paulo', 'sao', 'lei', 'parlamentar', 'frente', 'secretaria'])\n",
    "\n",
    "# Crie a nuvem de palavras\n",
    "wordcloud = WordCloud(width=800, height=400, background_color='white', stopwords=stopwords).generate(textos)\n",
    "\n",
    "# Exiba a nuvem de palavras\n",
    "plt.figure(figsize=(10, 5))\n",
    "plt.imshow(wordcloud, interpolation='bilinear')\n",
    "plt.axis('off')\n",
    "plt.show()"
   ]
  },
  {
   "cell_type": "code",
   "execution_count": null,
   "id": "b97caf7a-040e-4842-8e0c-7072cdc94aef",
   "metadata": {},
   "outputs": [],
   "source": [
    "df_explodido.tail()"
   ]
  },
  {
   "cell_type": "markdown",
   "id": "d6ca4690-5818-4964-ac35-8bb049e7f7c5",
   "metadata": {},
   "source": [
    "Por vereador"
   ]
  },
  {
   "cell_type": "code",
   "execution_count": null,
   "id": "ee27d470-d077-41fe-919c-f1d21f2a3d4e",
   "metadata": {},
   "outputs": [],
   "source": [
    "vespoli = df_explodido.loc[(df_explodido['nomes_vereadores'] == 'PROFESSOR TONINHO VESPOLI ')]\n",
    "messias = df_explodido.loc[(df_explodido['nomes_vereadores'] == 'MARCELO MESSIAS ')]"
   ]
  },
  {
   "cell_type": "code",
   "execution_count": null,
   "id": "e43def9f-a945-46f4-9e10-b698750786b5",
   "metadata": {},
   "outputs": [],
   "source": [
    "messias.head()"
   ]
  },
  {
   "cell_type": "code",
   "execution_count": null,
   "id": "3e68a4fb-d1af-4fa9-a217-460823d7cd8e",
   "metadata": {},
   "outputs": [],
   "source": [
    "#Vespoli\n",
    "\n",
    "textos = ' '.join(vespoli['Palavras-chave'].astype(str))\n",
    "\n",
    "stopwords = set(STOPWORDS)\n",
    "stopwords.update([\"de\", \"municipal\", 'paulo', 'sao', 'lei', 'parlamentar', 'frente', 'secretaria', 'da'])\n",
    "\n",
    "wordcloud = WordCloud(width=800, height=400, background_color='white', stopwords=stopwords).generate(textos)\n",
    "\n",
    "# Exiba a nuvem de palavras\n",
    "plt.figure(figsize=(10, 5))\n",
    "plt.imshow(wordcloud, interpolation='bilinear')\n",
    "plt.axis('off')\n",
    "plt.show()"
   ]
  },
  {
   "cell_type": "code",
   "execution_count": null,
   "id": "20804060-d065-4dc7-908e-06647e53347d",
   "metadata": {
    "scrolled": true
   },
   "outputs": [],
   "source": [
    "#Messias\n",
    "\n",
    "textos = ' '.join(messias['Palavras-chave'].astype(str))\n",
    "\n",
    "stopwords = set(STOPWORDS)\n",
    "stopwords.update([\"de\", \"municipal\", 'paulo', 'sao', 'lei', 'parlamentar', 'frente', 'secretaria', 'da'])\n",
    "\n",
    "wordcloud = WordCloud(width=800, height=400, background_color='white', stopwords=stopwords).generate(textos)\n",
    "\n",
    "# Exiba a nuvem de palavras\n",
    "plt.figure(figsize=(10, 5))\n",
    "plt.imshow(wordcloud, interpolation='bilinear')\n",
    "plt.axis('off')\n",
    "plt.show()"
   ]
  },
  {
   "cell_type": "markdown",
   "id": "27ace210-bbb5-40ca-8290-11937d4e211d",
   "metadata": {},
   "source": [
    "### Dados de candidatos"
   ]
  },
  {
   "cell_type": "code",
   "execution_count": null,
   "id": "bed06c1a-e1e4-4a39-88ce-885d66952160",
   "metadata": {},
   "outputs": [],
   "source": [
    "import pandas as pd\n",
    "cand = pd.read_csv(r\"C:\\Users\\Diogo\\Documents\\consulta_cand_2020_BRASIL.csv\", encoding='latin1', sep=';') #substituir (dados de dadosabertos.tse.jus.br)"
   ]
  },
  {
   "cell_type": "code",
   "execution_count": null,
   "id": "26c9db7b-f4d5-4029-973e-057cb9310a99",
   "metadata": {},
   "outputs": [],
   "source": [
    "colunas_desejadas = ['DS_CARGO', 'NM_UE', 'NM_CANDIDATO', 'NM_URNA_CANDIDATO', 'SG_PARTIDO', 'CD_MUNICIPIO_NASCIMENTO', 'NR_IDADE_DATA_POSSE', 'DS_GENERO', 'DS_GRAU_INSTRUCAO', 'DS_COR_RACA', 'VR_DESPESA_MAX_CAMPANHA', 'ST_REELEICAO', 'DS_SITUACAO_CANDIDATO_TOT']\n",
    "cand = cand[colunas_desejadas]"
   ]
  },
  {
   "cell_type": "code",
   "execution_count": null,
   "id": "62108243-3357-460b-a84b-3c2effbb11c4",
   "metadata": {},
   "outputs": [],
   "source": [
    "cand = cand.loc[(cand['DS_CARGO'] == 'VEREADOR')]\n",
    "cand = cand.loc[(cand['NM_UE'] == 'SÃO PAULO')]"
   ]
  },
  {
   "cell_type": "code",
   "execution_count": null,
   "id": "fd352d57-20a7-4f7f-98ff-f7573f3edded",
   "metadata": {
    "scrolled": true
   },
   "outputs": [],
   "source": [
    "cand.head()"
   ]
  },
  {
   "cell_type": "code",
   "execution_count": null,
   "id": "572a49b4-fbcd-4b02-ba9c-053e57d0ab15",
   "metadata": {
    "scrolled": true
   },
   "outputs": [],
   "source": [
    "#total buscando reeleição\n",
    "cand['ST_REELEICAO'].value_counts()"
   ]
  },
  {
   "cell_type": "code",
   "execution_count": null,
   "id": "5777e5e4-6368-45cf-9a8b-f039e317ad29",
   "metadata": {},
   "outputs": [],
   "source": [
    "#total por partido\n",
    "cand['SG_PARTIDO'].value_counts()"
   ]
  },
  {
   "cell_type": "code",
   "execution_count": null,
   "id": "e4b175fa-a467-4876-aa20-d1f78baf70c9",
   "metadata": {},
   "outputs": [],
   "source": [
    "bens = pd.read_csv(r\"C:\\Users\\Diogo\\Documents\\bem_candidato_2020_BRASIL.csv\", sep=';', encoding='latin1', decimal=',', thousands='.') #substituir (dados de dadosabertos.tse.jus.br)"
   ]
  },
  {
   "cell_type": "code",
   "execution_count": null,
   "id": "bee5f01d-b063-4810-b8b0-069371ac6833",
   "metadata": {},
   "outputs": [],
   "source": [
    "bens = bens.loc[(bens['NM_UE'] == 'SÃO PAULO')]"
   ]
  },
  {
   "cell_type": "code",
   "execution_count": null,
   "id": "36c49efb-bccf-4bc5-bfb7-40d919e8c2bb",
   "metadata": {},
   "outputs": [],
   "source": [
    "bens_agrupado = bens.groupby('SQ_CANDIDATO')['VR_BEM_CANDIDATO'].sum().reset_index()\n",
    "\n",
    "# Renomeie a coluna 'valor_bem' para 'valor_total_bens' para maior clareza\n",
    "bens_agrupado = bens_agrupado.rename(columns={'valor_bem': 'valor_total_bens'})"
   ]
  },
  {
   "cell_type": "code",
   "execution_count": null,
   "id": "2c9dcc03-81bc-4cc1-b2da-9024044d7ae6",
   "metadata": {
    "scrolled": true
   },
   "outputs": [],
   "source": [
    "bens_agrupado['sq_candidato'] = bens_agrupado['SQ_CANDIDATO']\n",
    "bens_agrupado.head()"
   ]
  },
  {
   "cell_type": "code",
   "execution_count": null,
   "id": "14405e73-38d4-40f6-a244-7b33b3366f8c",
   "metadata": {},
   "outputs": [],
   "source": [
    "resultado = pd.read_csv(r\"C:\\Users\\Diogo\\Downloads\\votacao_candidato-vereador_2020_sudeste_sp_sao_paulo.csv\\votacao_candidato-vereador_2020_sudeste_sp_sao_paulo.csv\", encoding='latin1', sep=';')\n",
    "cand['nm_candidato'] = cand['NM_CANDIDATO']\n",
    "cand_eleito = pd.merge(resultado, cand, on=['nm_candidato'])"
   ]
  },
  {
   "cell_type": "code",
   "execution_count": null,
   "id": "687c719a-195f-4fce-a441-e7780378bb18",
   "metadata": {},
   "outputs": [],
   "source": [
    "cand_eleito = cand_eleito.loc[(cand_eleito['ds_sit_totalizacao'] == 'Eleito')]"
   ]
  },
  {
   "cell_type": "code",
   "execution_count": null,
   "id": "48bc417f-d589-4847-bf4f-966a20fb6641",
   "metadata": {},
   "outputs": [],
   "source": [
    "cand_eleito['ST_REELEICAO'].value_counts()"
   ]
  },
  {
   "cell_type": "code",
   "execution_count": null,
   "id": "7a0f360e-a7cb-4bd9-a2f9-042fac9603fb",
   "metadata": {},
   "outputs": [],
   "source": [
    "cand_eleito.describe()"
   ]
  },
  {
   "cell_type": "code",
   "execution_count": null,
   "id": "59d2609f-f38e-4baa-b3d3-a307f405ebd5",
   "metadata": {},
   "outputs": [],
   "source": [
    "cand_eleito['SG_PARTIDO'].value_counts()"
   ]
  },
  {
   "cell_type": "code",
   "execution_count": null,
   "id": "778c6a67-cd31-466b-abfd-8eee79ba3338",
   "metadata": {},
   "outputs": [],
   "source": [
    "cand_eleito.loc[(cand_eleito['ST_REELEICAO'] == 'S')]"
   ]
  },
  {
   "cell_type": "code",
   "execution_count": null,
   "id": "625eba89-4533-4e4f-b29d-df0739302f2f",
   "metadata": {},
   "outputs": [],
   "source": [
    "cand_eleito = pd.merge(cand_eleito, bens_agrupado, on=['sq_candidato'])"
   ]
  },
  {
   "cell_type": "code",
   "execution_count": null,
   "id": "7f4f528b-6b4e-4910-b37e-2f5adfed6cdf",
   "metadata": {},
   "outputs": [],
   "source": [
    "cand_eleito['VR_BEM_CANDIDATO'].mean()"
   ]
  },
  {
   "cell_type": "code",
   "execution_count": null,
   "id": "d35d16ed-985f-4e98-9a52-727ca1e27035",
   "metadata": {
    "scrolled": true
   },
   "outputs": [],
   "source": [
    "bens_agrupado['VR_BEM_CANDIDATO'].mean()"
   ]
  },
  {
   "cell_type": "code",
   "execution_count": null,
   "id": "6d66ab32-2555-4d34-946d-3c48bbfade00",
   "metadata": {
    "scrolled": true
   },
   "outputs": [],
   "source": [
    "despesas = pd.read_csv(r\"C:\\Users\\Diogo\\Documents\\despesas.csv\", encoding='latin1')\n",
    "despesas = despesas.loc[(despesas['NM_UE'] == 'SÃO PAULO')]\n",
    "despesas"
   ]
  },
  {
   "cell_type": "code",
   "execution_count": null,
   "id": "b336514c-bc01-44af-ab7e-4701ddb1df39",
   "metadata": {
    "scrolled": true
   },
   "outputs": [],
   "source": [
    "despesas = despesas.groupby('SQ_CANDIDATO')['VR_DESPESA_CONTRATADA'].sum().reset_index()\n",
    "despesas"
   ]
  },
  {
   "cell_type": "code",
   "execution_count": null,
   "id": "561067ee-fb98-40dd-b78e-324eeaa6d9fc",
   "metadata": {},
   "outputs": [],
   "source": [
    "despesas['VR_DESPESA_CONTRATADA'].mean()"
   ]
  },
  {
   "cell_type": "code",
   "execution_count": null,
   "id": "960c62a4-0741-4e23-8904-ba35fd7b23b9",
   "metadata": {},
   "outputs": [],
   "source": [
    "despesas['sq_candidato'] = despesas['SQ_CANDIDATO']\n",
    "despesas_eleito = pd.merge(cand_eleito, despesas, on=['sq_candidato'])\n",
    "despesas_eleito['VR_DESPESA_CONTRATADA'].mean()"
   ]
  }
 ],
 "metadata": {
  "kernelspec": {
   "display_name": "Python 3 (ipykernel)",
   "language": "python",
   "name": "python3"
  },
  "language_info": {
   "codemirror_mode": {
    "name": "ipython",
    "version": 3
   },
   "file_extension": ".py",
   "mimetype": "text/x-python",
   "name": "python",
   "nbconvert_exporter": "python",
   "pygments_lexer": "ipython3",
   "version": "3.12.4"
  }
 },
 "nbformat": 4,
 "nbformat_minor": 5
}
